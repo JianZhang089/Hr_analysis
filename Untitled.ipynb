{
 "cells": [
  {
   "cell_type": "code",
   "execution_count": 14,
   "metadata": {
    "collapsed": true
   },
   "outputs": [],
   "source": [
    "import urllib\n",
    "import pandas as pd\n",
    "import numpy as np\n",
    "from sklearn.linear_model import LinearRegression\n",
    "import matplotlib.pyplot as plt "
   ]
  },
  {
   "cell_type": "code",
   "execution_count": 15,
   "metadata": {
    "collapsed": false
   },
   "outputs": [
    {
     "data": {
      "text/plain": [
       "('housing.data', <http.client.HTTPMessage at 0x1b3fe5026d8>)"
      ]
     },
     "execution_count": 15,
     "metadata": {},
     "output_type": "execute_result"
    }
   ],
   "source": [
    "data_url = \"https://archive.ics.uci.edu/ml/machine-learning-databases/housing/housing.data\"\n",
    "urllib.request.urlretrieve(data_url, \"housing.data\")"
   ]
  },
  {
   "cell_type": "code",
   "execution_count": 16,
   "metadata": {
    "collapsed": true
   },
   "outputs": [],
   "source": [
    "names = [\"CRIM\", \"ZN\", \"INDUS\", \"CHAS\", \"NOX\", \"RM\", \"AGE\",\n",
    "         \"DIS\", \"RAD\", \"TAX\", \"PTRATIO\", \"B\", \"LSTAT\", \"MEDV\"]"
   ]
  },
  {
   "cell_type": "code",
   "execution_count": 17,
   "metadata": {
    "collapsed": false
   },
   "outputs": [
    {
     "name": "stdout",
     "output_type": "stream",
     "text": [
      "      CRIM    ZN  INDUS  CHAS    NOX     RM   AGE     DIS  RAD    TAX  \\\n",
      "0  0.00632  18.0   2.31     0  0.538  6.575  65.2  4.0900    1  296.0   \n",
      "1  0.02731   0.0   7.07     0  0.469  6.421  78.9  4.9671    2  242.0   \n",
      "2  0.02729   0.0   7.07     0  0.469  7.185  61.1  4.9671    2  242.0   \n",
      "3  0.03237   0.0   2.18     0  0.458  6.998  45.8  6.0622    3  222.0   \n",
      "4  0.06905   0.0   2.18     0  0.458  7.147  54.2  6.0622    3  222.0   \n",
      "\n",
      "   PTRATIO       B  LSTAT  MEDV  \n",
      "0     15.3  396.90   4.98  24.0  \n",
      "1     17.8  396.90   9.14  21.6  \n",
      "2     17.8  392.83   4.03  34.7  \n",
      "3     18.7  394.63   2.94  33.4  \n",
      "4     18.7  396.90   5.33  36.2  \n"
     ]
    }
   ],
   "source": [
    "df = pd.read_csv(\"housing.data\", header=None, names=names, delim_whitespace=True)\n",
    "\n",
    "# Take a look at the first few rows\n",
    "print(df.head())\n"
   ]
  },
  {
   "cell_type": "code",
   "execution_count": 18,
   "metadata": {
    "collapsed": false
   },
   "outputs": [
    {
     "name": "stdout",
     "output_type": "stream",
     "text": [
      "<class 'numpy.ndarray'>\n"
     ]
    }
   ],
   "source": [
    "###scikit learn is looking for numpy arrays \n",
    "### DOES NOT want any pandas objects\n",
    "print(type(df['MEDV'].values))\n",
    "## values call transforms column into an array\n",
    "## have to use .reshape on single column because it doesn't like vectors"
   ]
  },
  {
   "cell_type": "code",
   "execution_count": 19,
   "metadata": {
    "collapsed": false
   },
   "outputs": [
    {
     "data": {
      "text/plain": [
       "array([[ 24. ],\n",
       "       [ 21.6],\n",
       "       [ 34.7],\n",
       "       [ 33.4],\n",
       "       [ 36.2],\n",
       "       [ 28.7],\n",
       "       [ 22.9],\n",
       "       [ 27.1],\n",
       "       [ 16.5],\n",
       "       [ 18.9],\n",
       "       [ 15. ],\n",
       "       [ 18.9],\n",
       "       [ 21.7],\n",
       "       [ 20.4],\n",
       "       [ 18.2],\n",
       "       [ 19.9],\n",
       "       [ 23.1],\n",
       "       [ 17.5],\n",
       "       [ 20.2],\n",
       "       [ 18.2],\n",
       "       [ 13.6],\n",
       "       [ 19.6],\n",
       "       [ 15.2],\n",
       "       [ 14.5],\n",
       "       [ 15.6],\n",
       "       [ 13.9],\n",
       "       [ 16.6],\n",
       "       [ 14.8],\n",
       "       [ 18.4],\n",
       "       [ 21. ],\n",
       "       [ 12.7],\n",
       "       [ 14.5],\n",
       "       [ 13.2],\n",
       "       [ 13.1],\n",
       "       [ 13.5],\n",
       "       [ 18.9],\n",
       "       [ 20. ],\n",
       "       [ 21. ],\n",
       "       [ 24.7],\n",
       "       [ 30.8],\n",
       "       [ 34.9],\n",
       "       [ 26.6],\n",
       "       [ 25.3],\n",
       "       [ 24.7],\n",
       "       [ 21.2],\n",
       "       [ 19.3],\n",
       "       [ 20. ],\n",
       "       [ 16.6],\n",
       "       [ 14.4],\n",
       "       [ 19.4],\n",
       "       [ 19.7],\n",
       "       [ 20.5],\n",
       "       [ 25. ],\n",
       "       [ 23.4],\n",
       "       [ 18.9],\n",
       "       [ 35.4],\n",
       "       [ 24.7],\n",
       "       [ 31.6],\n",
       "       [ 23.3],\n",
       "       [ 19.6],\n",
       "       [ 18.7],\n",
       "       [ 16. ],\n",
       "       [ 22.2],\n",
       "       [ 25. ],\n",
       "       [ 33. ],\n",
       "       [ 23.5],\n",
       "       [ 19.4],\n",
       "       [ 22. ],\n",
       "       [ 17.4],\n",
       "       [ 20.9],\n",
       "       [ 24.2],\n",
       "       [ 21.7],\n",
       "       [ 22.8],\n",
       "       [ 23.4],\n",
       "       [ 24.1],\n",
       "       [ 21.4],\n",
       "       [ 20. ],\n",
       "       [ 20.8],\n",
       "       [ 21.2],\n",
       "       [ 20.3],\n",
       "       [ 28. ],\n",
       "       [ 23.9],\n",
       "       [ 24.8],\n",
       "       [ 22.9],\n",
       "       [ 23.9],\n",
       "       [ 26.6],\n",
       "       [ 22.5],\n",
       "       [ 22.2],\n",
       "       [ 23.6],\n",
       "       [ 28.7],\n",
       "       [ 22.6],\n",
       "       [ 22. ],\n",
       "       [ 22.9],\n",
       "       [ 25. ],\n",
       "       [ 20.6],\n",
       "       [ 28.4],\n",
       "       [ 21.4],\n",
       "       [ 38.7],\n",
       "       [ 43.8],\n",
       "       [ 33.2],\n",
       "       [ 27.5],\n",
       "       [ 26.5],\n",
       "       [ 18.6],\n",
       "       [ 19.3],\n",
       "       [ 20.1],\n",
       "       [ 19.5],\n",
       "       [ 19.5],\n",
       "       [ 20.4],\n",
       "       [ 19.8],\n",
       "       [ 19.4],\n",
       "       [ 21.7],\n",
       "       [ 22.8],\n",
       "       [ 18.8],\n",
       "       [ 18.7],\n",
       "       [ 18.5],\n",
       "       [ 18.3],\n",
       "       [ 21.2],\n",
       "       [ 19.2],\n",
       "       [ 20.4],\n",
       "       [ 19.3],\n",
       "       [ 22. ],\n",
       "       [ 20.3],\n",
       "       [ 20.5],\n",
       "       [ 17.3],\n",
       "       [ 18.8],\n",
       "       [ 21.4],\n",
       "       [ 15.7],\n",
       "       [ 16.2],\n",
       "       [ 18. ],\n",
       "       [ 14.3],\n",
       "       [ 19.2],\n",
       "       [ 19.6],\n",
       "       [ 23. ],\n",
       "       [ 18.4],\n",
       "       [ 15.6],\n",
       "       [ 18.1],\n",
       "       [ 17.4],\n",
       "       [ 17.1],\n",
       "       [ 13.3],\n",
       "       [ 17.8],\n",
       "       [ 14. ],\n",
       "       [ 14.4],\n",
       "       [ 13.4],\n",
       "       [ 15.6],\n",
       "       [ 11.8],\n",
       "       [ 13.8],\n",
       "       [ 15.6],\n",
       "       [ 14.6],\n",
       "       [ 17.8],\n",
       "       [ 15.4],\n",
       "       [ 21.5],\n",
       "       [ 19.6],\n",
       "       [ 15.3],\n",
       "       [ 19.4],\n",
       "       [ 17. ],\n",
       "       [ 15.6],\n",
       "       [ 13.1],\n",
       "       [ 41.3],\n",
       "       [ 24.3],\n",
       "       [ 23.3],\n",
       "       [ 27. ],\n",
       "       [ 50. ],\n",
       "       [ 50. ],\n",
       "       [ 50. ],\n",
       "       [ 22.7],\n",
       "       [ 25. ],\n",
       "       [ 50. ],\n",
       "       [ 23.8],\n",
       "       [ 23.8],\n",
       "       [ 22.3],\n",
       "       [ 17.4],\n",
       "       [ 19.1],\n",
       "       [ 23.1],\n",
       "       [ 23.6],\n",
       "       [ 22.6],\n",
       "       [ 29.4],\n",
       "       [ 23.2],\n",
       "       [ 24.6],\n",
       "       [ 29.9],\n",
       "       [ 37.2],\n",
       "       [ 39.8],\n",
       "       [ 36.2],\n",
       "       [ 37.9],\n",
       "       [ 32.5],\n",
       "       [ 26.4],\n",
       "       [ 29.6],\n",
       "       [ 50. ],\n",
       "       [ 32. ],\n",
       "       [ 29.8],\n",
       "       [ 34.9],\n",
       "       [ 37. ],\n",
       "       [ 30.5],\n",
       "       [ 36.4],\n",
       "       [ 31.1],\n",
       "       [ 29.1],\n",
       "       [ 50. ],\n",
       "       [ 33.3],\n",
       "       [ 30.3],\n",
       "       [ 34.6],\n",
       "       [ 34.9],\n",
       "       [ 32.9],\n",
       "       [ 24.1],\n",
       "       [ 42.3],\n",
       "       [ 48.5],\n",
       "       [ 50. ],\n",
       "       [ 22.6],\n",
       "       [ 24.4],\n",
       "       [ 22.5],\n",
       "       [ 24.4],\n",
       "       [ 20. ],\n",
       "       [ 21.7],\n",
       "       [ 19.3],\n",
       "       [ 22.4],\n",
       "       [ 28.1],\n",
       "       [ 23.7],\n",
       "       [ 25. ],\n",
       "       [ 23.3],\n",
       "       [ 28.7],\n",
       "       [ 21.5],\n",
       "       [ 23. ],\n",
       "       [ 26.7],\n",
       "       [ 21.7],\n",
       "       [ 27.5],\n",
       "       [ 30.1],\n",
       "       [ 44.8],\n",
       "       [ 50. ],\n",
       "       [ 37.6],\n",
       "       [ 31.6],\n",
       "       [ 46.7],\n",
       "       [ 31.5],\n",
       "       [ 24.3],\n",
       "       [ 31.7],\n",
       "       [ 41.7],\n",
       "       [ 48.3],\n",
       "       [ 29. ],\n",
       "       [ 24. ],\n",
       "       [ 25.1],\n",
       "       [ 31.5],\n",
       "       [ 23.7],\n",
       "       [ 23.3],\n",
       "       [ 22. ],\n",
       "       [ 20.1],\n",
       "       [ 22.2],\n",
       "       [ 23.7],\n",
       "       [ 17.6],\n",
       "       [ 18.5],\n",
       "       [ 24.3],\n",
       "       [ 20.5],\n",
       "       [ 24.5],\n",
       "       [ 26.2],\n",
       "       [ 24.4],\n",
       "       [ 24.8],\n",
       "       [ 29.6],\n",
       "       [ 42.8],\n",
       "       [ 21.9],\n",
       "       [ 20.9],\n",
       "       [ 44. ],\n",
       "       [ 50. ],\n",
       "       [ 36. ],\n",
       "       [ 30.1],\n",
       "       [ 33.8],\n",
       "       [ 43.1],\n",
       "       [ 48.8],\n",
       "       [ 31. ],\n",
       "       [ 36.5],\n",
       "       [ 22.8],\n",
       "       [ 30.7],\n",
       "       [ 50. ],\n",
       "       [ 43.5],\n",
       "       [ 20.7],\n",
       "       [ 21.1],\n",
       "       [ 25.2],\n",
       "       [ 24.4],\n",
       "       [ 35.2],\n",
       "       [ 32.4],\n",
       "       [ 32. ],\n",
       "       [ 33.2],\n",
       "       [ 33.1],\n",
       "       [ 29.1],\n",
       "       [ 35.1],\n",
       "       [ 45.4],\n",
       "       [ 35.4],\n",
       "       [ 46. ],\n",
       "       [ 50. ],\n",
       "       [ 32.2],\n",
       "       [ 22. ],\n",
       "       [ 20.1],\n",
       "       [ 23.2],\n",
       "       [ 22.3],\n",
       "       [ 24.8],\n",
       "       [ 28.5],\n",
       "       [ 37.3],\n",
       "       [ 27.9],\n",
       "       [ 23.9],\n",
       "       [ 21.7],\n",
       "       [ 28.6],\n",
       "       [ 27.1],\n",
       "       [ 20.3],\n",
       "       [ 22.5],\n",
       "       [ 29. ],\n",
       "       [ 24.8],\n",
       "       [ 22. ],\n",
       "       [ 26.4],\n",
       "       [ 33.1],\n",
       "       [ 36.1],\n",
       "       [ 28.4],\n",
       "       [ 33.4],\n",
       "       [ 28.2],\n",
       "       [ 22.8],\n",
       "       [ 20.3],\n",
       "       [ 16.1],\n",
       "       [ 22.1],\n",
       "       [ 19.4],\n",
       "       [ 21.6],\n",
       "       [ 23.8],\n",
       "       [ 16.2],\n",
       "       [ 17.8],\n",
       "       [ 19.8],\n",
       "       [ 23.1],\n",
       "       [ 21. ],\n",
       "       [ 23.8],\n",
       "       [ 23.1],\n",
       "       [ 20.4],\n",
       "       [ 18.5],\n",
       "       [ 25. ],\n",
       "       [ 24.6],\n",
       "       [ 23. ],\n",
       "       [ 22.2],\n",
       "       [ 19.3],\n",
       "       [ 22.6],\n",
       "       [ 19.8],\n",
       "       [ 17.1],\n",
       "       [ 19.4],\n",
       "       [ 22.2],\n",
       "       [ 20.7],\n",
       "       [ 21.1],\n",
       "       [ 19.5],\n",
       "       [ 18.5],\n",
       "       [ 20.6],\n",
       "       [ 19. ],\n",
       "       [ 18.7],\n",
       "       [ 32.7],\n",
       "       [ 16.5],\n",
       "       [ 23.9],\n",
       "       [ 31.2],\n",
       "       [ 17.5],\n",
       "       [ 17.2],\n",
       "       [ 23.1],\n",
       "       [ 24.5],\n",
       "       [ 26.6],\n",
       "       [ 22.9],\n",
       "       [ 24.1],\n",
       "       [ 18.6],\n",
       "       [ 30.1],\n",
       "       [ 18.2],\n",
       "       [ 20.6],\n",
       "       [ 17.8],\n",
       "       [ 21.7],\n",
       "       [ 22.7],\n",
       "       [ 22.6],\n",
       "       [ 25. ],\n",
       "       [ 19.9],\n",
       "       [ 20.8],\n",
       "       [ 16.8],\n",
       "       [ 21.9],\n",
       "       [ 27.5],\n",
       "       [ 21.9],\n",
       "       [ 23.1],\n",
       "       [ 50. ],\n",
       "       [ 50. ],\n",
       "       [ 50. ],\n",
       "       [ 50. ],\n",
       "       [ 50. ],\n",
       "       [ 13.8],\n",
       "       [ 13.8],\n",
       "       [ 15. ],\n",
       "       [ 13.9],\n",
       "       [ 13.3],\n",
       "       [ 13.1],\n",
       "       [ 10.2],\n",
       "       [ 10.4],\n",
       "       [ 10.9],\n",
       "       [ 11.3],\n",
       "       [ 12.3],\n",
       "       [  8.8],\n",
       "       [  7.2],\n",
       "       [ 10.5],\n",
       "       [  7.4],\n",
       "       [ 10.2],\n",
       "       [ 11.5],\n",
       "       [ 15.1],\n",
       "       [ 23.2],\n",
       "       [  9.7],\n",
       "       [ 13.8],\n",
       "       [ 12.7],\n",
       "       [ 13.1],\n",
       "       [ 12.5],\n",
       "       [  8.5],\n",
       "       [  5. ],\n",
       "       [  6.3],\n",
       "       [  5.6],\n",
       "       [  7.2],\n",
       "       [ 12.1],\n",
       "       [  8.3],\n",
       "       [  8.5],\n",
       "       [  5. ],\n",
       "       [ 11.9],\n",
       "       [ 27.9],\n",
       "       [ 17.2],\n",
       "       [ 27.5],\n",
       "       [ 15. ],\n",
       "       [ 17.2],\n",
       "       [ 17.9],\n",
       "       [ 16.3],\n",
       "       [  7. ],\n",
       "       [  7.2],\n",
       "       [  7.5],\n",
       "       [ 10.4],\n",
       "       [  8.8],\n",
       "       [  8.4],\n",
       "       [ 16.7],\n",
       "       [ 14.2],\n",
       "       [ 20.8],\n",
       "       [ 13.4],\n",
       "       [ 11.7],\n",
       "       [  8.3],\n",
       "       [ 10.2],\n",
       "       [ 10.9],\n",
       "       [ 11. ],\n",
       "       [  9.5],\n",
       "       [ 14.5],\n",
       "       [ 14.1],\n",
       "       [ 16.1],\n",
       "       [ 14.3],\n",
       "       [ 11.7],\n",
       "       [ 13.4],\n",
       "       [  9.6],\n",
       "       [  8.7],\n",
       "       [  8.4],\n",
       "       [ 12.8],\n",
       "       [ 10.5],\n",
       "       [ 17.1],\n",
       "       [ 18.4],\n",
       "       [ 15.4],\n",
       "       [ 10.8],\n",
       "       [ 11.8],\n",
       "       [ 14.9],\n",
       "       [ 12.6],\n",
       "       [ 14.1],\n",
       "       [ 13. ],\n",
       "       [ 13.4],\n",
       "       [ 15.2],\n",
       "       [ 16.1],\n",
       "       [ 17.8],\n",
       "       [ 14.9],\n",
       "       [ 14.1],\n",
       "       [ 12.7],\n",
       "       [ 13.5],\n",
       "       [ 14.9],\n",
       "       [ 20. ],\n",
       "       [ 16.4],\n",
       "       [ 17.7],\n",
       "       [ 19.5],\n",
       "       [ 20.2],\n",
       "       [ 21.4],\n",
       "       [ 19.9],\n",
       "       [ 19. ],\n",
       "       [ 19.1],\n",
       "       [ 19.1],\n",
       "       [ 20.1],\n",
       "       [ 19.9],\n",
       "       [ 19.6],\n",
       "       [ 23.2],\n",
       "       [ 29.8],\n",
       "       [ 13.8],\n",
       "       [ 13.3],\n",
       "       [ 16.7],\n",
       "       [ 12. ],\n",
       "       [ 14.6],\n",
       "       [ 21.4],\n",
       "       [ 23. ],\n",
       "       [ 23.7],\n",
       "       [ 25. ],\n",
       "       [ 21.8],\n",
       "       [ 20.6],\n",
       "       [ 21.2],\n",
       "       [ 19.1],\n",
       "       [ 20.6],\n",
       "       [ 15.2],\n",
       "       [  7. ],\n",
       "       [  8.1],\n",
       "       [ 13.6],\n",
       "       [ 20.1],\n",
       "       [ 21.8],\n",
       "       [ 24.5],\n",
       "       [ 23.1],\n",
       "       [ 19.7],\n",
       "       [ 18.3],\n",
       "       [ 21.2],\n",
       "       [ 17.5],\n",
       "       [ 16.8],\n",
       "       [ 22.4],\n",
       "       [ 20.6],\n",
       "       [ 23.9],\n",
       "       [ 22. ],\n",
       "       [ 11.9]])"
      ]
     },
     "execution_count": 19,
     "metadata": {},
     "output_type": "execute_result"
    }
   ],
   "source": [
    "df['MEDV'].values.reshape(-1,1)"
   ]
  },
  {
   "cell_type": "code",
   "execution_count": 20,
   "metadata": {
    "collapsed": true
   },
   "outputs": [],
   "source": [
    "y = df['MEDV'].values.reshape(-1, 1)\n",
    "x = df['CRIM'].values.reshape(-1, 1)"
   ]
  },
  {
   "cell_type": "code",
   "execution_count": 21,
   "metadata": {
    "collapsed": false
   },
   "outputs": [
    {
     "data": {
      "text/plain": [
       "LinearRegression(copy_X=True, fit_intercept=True, n_jobs=1, normalize=False)"
      ]
     },
     "execution_count": 21,
     "metadata": {},
     "output_type": "execute_result"
    }
   ],
   "source": [
    "lr = LinearRegression()\n",
    "\n",
    "type(lr) ### ===<class 'sklearn.linear_model.base.LinearRegression'>\n",
    "\n",
    "lr.fit(x, y) ## DONE!!!!!"
   ]
  },
  {
   "cell_type": "code",
   "execution_count": 22,
   "metadata": {
    "collapsed": false
   },
   "outputs": [
    {
     "data": {
      "text/plain": [
       "0.15078046904975717"
      ]
     },
     "execution_count": 22,
     "metadata": {},
     "output_type": "execute_result"
    }
   ],
   "source": [
    "lr.score(x,y)"
   ]
  },
  {
   "cell_type": "code",
   "execution_count": 26,
   "metadata": {
    "collapsed": true
   },
   "outputs": [],
   "source": [
    "a = np.array([85]).reshape(-1,1)"
   ]
  },
  {
   "cell_type": "code",
   "execution_count": 27,
   "metadata": {
    "collapsed": false
   },
   "outputs": [
    {
     "name": "stdout",
     "output_type": "stream",
     "text": [
      "The predicted MEDV at crime rate of 85 is [[-11.25806745]]\n"
     ]
    }
   ],
   "source": [
    "print('The predicted MEDV at crime rate of 85 is %s' % lr.predict(a))"
   ]
  },
  {
   "cell_type": "code",
   "execution_count": 29,
   "metadata": {
    "collapsed": false
   },
   "outputs": [
    {
     "data": {
      "text/plain": [
       "88.976200000000006"
      ]
     },
     "execution_count": 29,
     "metadata": {},
     "output_type": "execute_result"
    }
   ],
   "source": [
    "df['CRIM'].max()"
   ]
  },
  {
   "cell_type": "code",
   "execution_count": 30,
   "metadata": {
    "collapsed": true
   },
   "outputs": [],
   "source": [
    "predictions = lr.predict(x)\n",
    "\n",
    "plt.scatter(y, predictions)\n",
    "plt.savefig('regmaybe.png')\n",
    "plt.clf()"
   ]
  },
  {
   "cell_type": "code",
   "execution_count": 31,
   "metadata": {
    "collapsed": false
   },
   "outputs": [
    {
     "name": "stdout",
     "output_type": "stream",
     "text": [
      "My regression is y = [ 24.03310617] + [[-0.41519028]] * CRIM\n"
     ]
    }
   ],
   "source": [
    "print('My regression is y = %s + %s * CRIM' % (lr.intercept_, lr.coef_))"
   ]
  },
  {
   "cell_type": "code",
   "execution_count": 32,
   "metadata": {
    "collapsed": true
   },
   "outputs": [],
   "source": [
    "% matplotlib inline"
   ]
  },
  {
   "cell_type": "code",
   "execution_count": 33,
   "metadata": {
    "collapsed": false
   },
   "outputs": [
    {
     "data": {
      "text/plain": [
       "[<matplotlib.lines.Line2D at 0x1b3ffa62400>]"
      ]
     },
     "execution_count": 33,
     "metadata": {},
     "output_type": "execute_result"
    },
    {
     "data": {
      "image/png": "[encoded data removed]",
      "text/plain": [
       "<matplotlib.figure.Figure at 0x1b3ffa62588>"
      ]
     },
     "metadata": {},
     "output_type": "display_data"
    }
   ],
   "source": [
    "plt.scatter(x,y)\n",
    "plt.plot(x,predictions)"
   ]
  },
  {
   "cell_type": "code",
   "execution_count": 34,
   "metadata": {
    "collapsed": true
   },
   "outputs": [],
   "source": [
    "x = df[['CRIM', 'RM']].values"
   ]
  },
  {
   "cell_type": "code",
   "execution_count": 35,
   "metadata": {
    "collapsed": false
   },
   "outputs": [
    {
     "data": {
      "text/plain": [
       "LinearRegression(copy_X=True, fit_intercept=True, n_jobs=1, normalize=False)"
      ]
     },
     "execution_count": 35,
     "metadata": {},
     "output_type": "execute_result"
    }
   ],
   "source": [
    "lr2 = LinearRegression()\n",
    "lr2.fit(x, y)"
   ]
  },
  {
   "cell_type": "code",
   "execution_count": 36,
   "metadata": {
    "collapsed": false
   },
   "outputs": [
    {
     "name": "stdout",
     "output_type": "stream",
     "text": [
      "0.541959173849\n"
     ]
    }
   ],
   "source": [
    "print(lr2.score(x, y))"
   ]
  },
  {
   "cell_type": "code",
   "execution_count": 46,
   "metadata": {
    "collapsed": false
   },
   "outputs": [
    {
     "data": {
      "image/png": "[encoded data removed]",
      "text/plain": [
       "<matplotlib.figure.Figure at 0x1b3ffd6d710>"
      ]
     },
     "metadata": {},
     "output_type": "display_data"
    }
   ],
   "source": [
    "predictions2 = lr2.predict(x)\n",
    "\n",
    "plt.scatter(y, predictions2)\n",
    "plt.plot([0,50], [0,50],)\n",
    "plt.show()"
   ]
  },
  {
   "cell_type": "code",
   "execution_count": 48,
   "metadata": {
    "collapsed": false
   },
   "outputs": [
    {
     "name": "stdout",
     "output_type": "stream",
     "text": [
      "0.735516508972\n"
     ]
    },
    {
     "data": {
      "image/png": "[encoded data removed]",
      "text/plain": [
       "<matplotlib.figure.Figure at 0x1b3ff82f3c8>"
      ]
     },
     "metadata": {},
     "output_type": "display_data"
    },
    {
     "data": {
      "text/plain": [
       "<matplotlib.figure.Figure at 0x1b3fe4e7ba8>"
      ]
     },
     "metadata": {},
     "output_type": "display_data"
    }
   ],
   "source": [
    "x = df[['CRIM', 'RM', 'NOX', 'INDUS', 'ZN', 'AGE', 'DIS', 'RAD', 'TAX', 'PTRATIO', 'B', 'LSTAT']].values\n",
    "\n",
    "lr3 = LinearRegression()\n",
    "lr3.fit(x, y)\n",
    "print(lr3.score(x, y))\n",
    "predictionsmax = lr3.predict(x)\n",
    "plt.scatter(y, predictionsmax)\n",
    "plt.plot ([0,50], [0,50], c='r')\n",
    "plt.show()\n",
    "plt.clf()"
   ]
  }
 ],
 "metadata": {
  "kernelspec": {
   "display_name": "Python 3",
   "language": "python",
   "name": "python3"
  },
  "language_info": {
   "codemirror_mode": {
    "name": "ipython",
    "version": 3
   },
   "file_extension": ".py",
   "mimetype": "text/x-python",
   "name": "python",
   "nbconvert_exporter": "python",
   "pygments_lexer": "ipython3",
   "version": "3.6.0"
  }
 },
 "nbformat": 4,
 "nbformat_minor": 2
}
